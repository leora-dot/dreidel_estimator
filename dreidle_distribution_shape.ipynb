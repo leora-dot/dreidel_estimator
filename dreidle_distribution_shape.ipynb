{
 "cells": [
  {
   "cell_type": "code",
   "execution_count": 29,
   "metadata": {},
   "outputs": [],
   "source": [
    "import data_generator as dg\n",
    "\n",
    "import seaborn as sns\n",
    "import numpy as np\n",
    "from matplotlib import pyplot as plt"
   ]
  },
  {
   "cell_type": "code",
   "execution_count": 5,
   "metadata": {},
   "outputs": [
    {
     "name": "stdout",
     "output_type": "stream",
     "text": [
      "10/42 Configurations Complete\n",
      "20/42 Configurations Complete\n",
      "30/42 Configurations Complete\n",
      "40/42 Configurations Complete\n",
      "42/42 Configurations Complete\n"
     ]
    }
   ],
   "source": [
    "num_players_list = list(range(2, 8))\n",
    "num_gelt_list = list(range(20, 51, 5))\n",
    "\n",
    "generator = dg.Data_Generator(num_players_list, num_gelt_list, 100)\n",
    "data = generator.generate_data()"
   ]
  },
  {
   "cell_type": "code",
   "execution_count": null,
   "metadata": {},
   "outputs": [],
   "source": [
    "plt.figure(figsize=(10, 15))\n",
    "plt.suptitle(\"Dreidle Game Length (Log of Number of Turns)\")\n",
    "\n",
    "for i in range(42):\n",
    "    ax = plt.subplot(7, 6, i+1)\n",
    "    \n",
    "    data_log = np.log(data[i][2])\n",
    "    sns.histplot(data_log, kde=True)\n",
    "    plt.title(\"{} Players, {} Gelt\".format(data[i][0], data[i][1]), fontsize = 8)\n",
    "\n",
    "plt.tight_layout()\n",
    "plt.subplots_adjust(top=0.95)\n",
    "plt.show()\n",
    "    "
   ]
  },
  {
   "cell_type": "code",
   "execution_count": null,
   "metadata": {},
   "outputs": [],
   "source": []
  }
 ],
 "metadata": {
  "kernelspec": {
   "display_name": "Python 3",
   "language": "python",
   "name": "python3"
  }
 },
 "nbformat": 4,
 "nbformat_minor": 4
}
